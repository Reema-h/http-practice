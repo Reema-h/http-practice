{
  "nbformat": 4,
  "nbformat_minor": 0,
  "metadata": {
    "colab": {
      "provenance": []
    },
    "kernelspec": {
      "name": "python3",
      "display_name": "Python 3"
    },
    "language_info": {
      "name": "python"
    }
  },
  "cells": [
    {
      "cell_type": "code",
      "execution_count": null,
      "metadata": {
        "id": "K4F9jzZdmhmK"
      },
      "outputs": [],
      "source": [
        "import requests"
      ]
    },
    {
      "cell_type": "code",
      "source": [
        "# GET request\n",
        "def test_1():\n",
        "    response = requests.get('https://jsonplaceholder.typicode.com/posts/1')\n",
        "    return response"
      ],
      "metadata": {
        "id": "-Yp68JqNmkaP"
      },
      "execution_count": null,
      "outputs": []
    },
    {
      "cell_type": "code",
      "source": [
        "# GET request with parameters\n",
        "def test_2():\n",
        "    params = {'q': 'python language'}\n",
        "    response = requests.get('https://www.google.com/search', params=params)\n",
        "    return response"
      ],
      "metadata": {
        "id": "jJx6qusKmt0W"
      },
      "execution_count": null,
      "outputs": []
    },
    {
      "cell_type": "code",
      "source": [
        "# POST request\n",
        "def test_3():\n",
        "    response = requests.post('https://jsonplaceholder.typicode.com/posts', json={'title': 'foo', 'body': 'bar', 'userId': 1})\n",
        "    return response"
      ],
      "metadata": {
        "id": "cMXUl5CEmx7t"
      },
      "execution_count": null,
      "outputs": []
    },
    {
      "cell_type": "code",
      "source": [
        "# PUT request\n",
        "def test_4():\n",
        "    response = requests.put('https://jsonplaceholder.typicode.com/posts/1', json={'id': 1, 'title': 'foo', 'body': 'bar', 'userId': 1})\n",
        "    return response"
      ],
      "metadata": {
        "id": "i3VttBSMnB7Z"
      },
      "execution_count": null,
      "outputs": []
    },
    {
      "cell_type": "code",
      "source": [
        "# PATCH request\n",
        "def test_5():\n",
        "    response = requests.patch('https://jsonplaceholder.typicode.com/posts/1', json={'title': 'updated title'})\n",
        "    return response"
      ],
      "metadata": {
        "id": "cLO0PwjQnJBr"
      },
      "execution_count": null,
      "outputs": []
    },
    {
      "cell_type": "code",
      "source": [
        "# DELETE request\n",
        "def test_6():\n",
        "    response = requests.delete('https://jsonplaceholder.typicode.com/posts/1')\n",
        "    return response"
      ],
      "metadata": {
        "id": "aH5UgfgcnYAi"
      },
      "execution_count": null,
      "outputs": []
    },
    {
      "cell_type": "code",
      "source": [
        "# Headers\n",
        "def test_7():\n",
        "    response = requests.get('http://httpbin.org/redirect/1', allow_redirects=True)\n",
        "    return response.headers['Location']"
      ],
      "metadata": {
        "id": "fA5LJWHKnnfU"
      },
      "execution_count": null,
      "outputs": []
    },
    {
      "cell_type": "code",
      "source": [],
      "metadata": {
        "id": "gjiImtJQn056"
      },
      "execution_count": null,
      "outputs": []
    }
  ]
}